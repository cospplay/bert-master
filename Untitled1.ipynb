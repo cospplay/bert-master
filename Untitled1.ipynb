{
  "nbformat": 4,
  "nbformat_minor": 0,
  "metadata": {
    "colab": {
      "name": "Untitled1.ipynb",
      "provenance": [],
      "collapsed_sections": [],
      "machine_shape": "hm",
      "mount_file_id": "1OTIR-rzPEiez1DrDBcM7issh5PM3jB6K",
      "authorship_tag": "ABX9TyNY3pGb1TinBVMssG3wWEgs",
      "include_colab_link": true
    },
    "kernelspec": {
      "name": "python3",
      "display_name": "Python 3"
    },
    "accelerator": "GPU"
  },
  "cells": [
    {
      "cell_type": "markdown",
      "metadata": {
        "id": "view-in-github",
        "colab_type": "text"
      },
      "source": [
        "<a href=\"https://colab.research.google.com/github/cospplay/bert-master/blob/master/Untitled1.ipynb\" target=\"_parent\"><img src=\"https://colab.research.google.com/assets/colab-badge.svg\" alt=\"Open In Colab\"/></a>"
      ]
    },
    {
      "cell_type": "code",
      "metadata": {
        "id": "-ZozTRzPxnN6",
        "colab_type": "code",
        "colab": {}
      },
      "source": [
        "%tensorflow_version 1.x\n",
        "!python -m albert.run_classifier \\\n",
        "  --data_dir=/content/drive/My\\ Drive/mydata_2 \\\n",
        "  --output_dir=/content/drive/My\\ Drive/albert_output_new_4 \\\n",
        "  --albert_hub_module_handle=/content/drive/My\\ Drive/3 \\\n",
        "  --spm_model_file=\"from_tf_hub\" \\\n",
        "  --do_train=True \\\n",
        "  --do_eval=True \\\n",
        "  --do_predict=False \\\n",
        "  --max_seq_length=256 \\\n",
        "  --optimizer=adamw \\\n",
        "  --task_name=myda \\\n",
        "  --warmup_step=200 \\\n",
        "  --learning_rate=2e-5 \\\n",
        "  --train_step=1500 \\\n",
        "  --save_checkpoints_steps=20 \\\n",
        "  --train_batch_size=4 \\\n",
        "  --tpu_name=grpc://10.71.152.2:8470 \\\n",
        "  --use_tpu=False"
      ],
      "execution_count": null,
      "outputs": []
    },
    {
      "cell_type": "code",
      "metadata": {
        "id": "itlVOHe7WyLa",
        "colab_type": "code",
        "colab": {}
      },
      "source": [
        "!rm -rf /content/drive/My\\ Drive/albert_output_2"
      ],
      "execution_count": null,
      "outputs": []
    },
    {
      "cell_type": "code",
      "metadata": {
        "id": "wo7xIrhLXVfY",
        "colab_type": "code",
        "colab": {}
      },
      "source": [
        "df -lk"
      ],
      "execution_count": null,
      "outputs": []
    },
    {
      "cell_type": "code",
      "metadata": {
        "id": "vo0iUIbPx4-O",
        "colab_type": "code",
        "colab": {}
      },
      "source": [
        "# TODO(lanzhzh): Add support for 1.x.\n",
        "%tensorflow_version 1.x\n",
        "import os\n",
        "import pprint\n",
        "import json\n",
        "import tensorflow as tf\n",
        "\n",
        "assert \"COLAB_TPU_ADDR\" in os.environ, \"ERROR: Not connected to a TPU runtime; please see the first cell in this notebook for instructions!\"\n",
        "TPU_ADDRESS = \"grpc://\" + os.environ[\"COLAB_TPU_ADDR\"] \n",
        "TPU_TOPOLOGY = \"2x2\"\n",
        "print(\"TPU address is\", TPU_ADDRESS)\n",
        "\n",
        "from google.colab import auth\n",
        "auth.authenticate_user()\n",
        "with tf.Session(TPU_ADDRESS) as session:\n",
        "  print('TPU devices:')\n",
        "  pprint.pprint(session.list_devices())\n",
        "\n",
        "  # Upload credentials to TPU.\n",
        "  with open('/content/adc.json', 'r') as f:\n",
        "    auth_info = json.load(f)\n",
        "  tf.contrib.cloud.configure_gcs(session, credentials=auth_info)\n",
        "    # Now credentials are set for all future sessions on this TPU."
      ],
      "execution_count": null,
      "outputs": []
    },
    {
      "cell_type": "code",
      "metadata": {
        "id": "TvueGrtcx5nc",
        "colab_type": "code",
        "colab": {}
      },
      "source": [
        "#TODO(lanzhzh): Add pip support\n",
        "import sys\n",
        "\n",
        "!test -d albert || git clone https://github.com/google-research/albert albert\n",
        "\n",
        "sys.path += ['albert']\n",
        "  \n",
        "!pip install sentencepiece\n"
      ],
      "execution_count": null,
      "outputs": []
    },
    {
      "cell_type": "markdown",
      "metadata": {
        "id": "47AVyNRAvw0C",
        "colab_type": "text"
      },
      "source": [
        "# 新段落"
      ]
    },
    {
      "cell_type": "code",
      "metadata": {
        "id": "QrGgL3fNyvgA",
        "colab_type": "code",
        "colab": {}
      },
      "source": [
        "import os\n",
        "import pandas as pd\n",
        "\n",
        "\n",
        "if __name__ == '__main__':\n",
        "    path = \"/content/drive/My Drive/albert_output_8\"\n",
        "    pd_all = pd.read_csv(os.path.join(path, \"test_results.tsv\") ,sep='\\t',header=None)\n",
        "\n",
        "    data = pd.DataFrame(columns=['polarity'])\n",
        "    print(pd_all.shape)\n",
        "\n",
        "    for index in pd_all.index:\n",
        "        neutral_score = pd_all.loc[index].values[0]\n",
        "        positive_score = pd_all.loc[index].values[1]\n",
        "        negative_score = pd_all.loc[index].values[2]\n",
        "\n",
        "        if max(neutral_score, positive_score, negative_score) == neutral_score:\n",
        "            # data.append(pd.DataFrame([index, \"0\"],columns=['id','polarity']),ignore_index=True)\n",
        "            data.loc[index+1] = [\"0\"]\n",
        "        elif max(neutral_score, positive_score, negative_score) == positive_score:\n",
        "            #data.append(pd.DataFrame([index, \"1\"],columns=['id','polarity']),ignore_index=True)\n",
        "            data.loc[index+1] = [ \"1\"]\n",
        "        else:\n",
        "            #data.append(pd.DataFrame([index, \"2\"],columns=['id','polarity']),ignore_index=True)\n",
        "            data.loc[index+1] = [ \"2\"]\n",
        "        #print(negative_score, positive_score, negative_score)\n",
        "\n",
        "    data.to_csv(os.path.join(path, \"pre_sample.tsv\"),sep = '\\t')\n",
        "    #print(data)\n"
      ],
      "execution_count": null,
      "outputs": []
    },
    {
      "cell_type": "code",
      "metadata": {
        "id": "cC-gpXsQgYKv",
        "colab_type": "code",
        "colab": {}
      },
      "source": [
        "path = \"/content/drive/My Drive/albert_output_8\"\n",
        "tag=\"/content/drive/My Drive/mydata_2/test.tsv\"\n",
        "c=[]\n",
        "d=[]\n",
        "with open(tag, 'r', encoding='utf-8', errors='ignore') as r:\n",
        "    lines = r.read().splitlines()\n",
        "    for i in range(1,len(lines)):\n",
        "      a=lines[i].split('\\t')\n",
        "      b=a[2]\n",
        "      c.append(b)\n",
        "with open(path+\"/pre_sample.tsv\", 'r', encoding='utf-8', errors='ignore') as r:\n",
        "    lines = r.read().splitlines()\n",
        "    for i in range(1,len(lines)):\n",
        "      a=lines[i].split('\\t')\n",
        "      b=a[1]\n",
        "      d.append(b)\n",
        "\n",
        "k=0\n",
        "for i in range(1,len(c)):\n",
        "  if c[i]==d[i]:\n",
        "    k+=1\n",
        "\n",
        "acc_2=k/len(c)\n",
        "print(acc_2)\n",
        "with open(path+\"/acc_2.txt\", 'w', encoding='utf-8', errors='ignore') as r:\n",
        "  r.write('train_accuracy = ')\n",
        "  r.write(str(acc_2))"
      ],
      "execution_count": null,
      "outputs": []
    },
    {
      "cell_type": "markdown",
      "metadata": {
        "id": "DhzJPt0tU5xu",
        "colab_type": "text"
      },
      "source": [
        "# Tensorflow学习"
      ]
    },
    {
      "cell_type": "code",
      "metadata": {
        "id": "sjfprTZPVFSl",
        "colab_type": "code",
        "colab": {}
      },
      "source": [
        "%tensorflow_version 2.x\n",
        "import tensorflow as tf\n",
        "\n",
        "#构建顺序模型\n",
        "model=tf.keras.Sequential()\n",
        "\n",
        "#添加线性回归层tf.keras.layers.Dense(a,input_shape=(b,))\n",
        "#a为输出数据的维度，b为输入数据的维度 \n",
        "model.add(tf.keras.layers.Dense(1,input_shape=(1,)))\n",
        "\n",
        "'''\n",
        "另外一种写法\n",
        "model=tf.keras.Sequential([tf.keras.layers.Dense(10,input_shape=(3,)),activation='relu',\n",
        "tf.keras.layers.Dense(1,input_shape=(10,))]\n",
        ")\n",
        "'''\n",
        "\n",
        "#观察模型整体\n",
        "model.summary()\n",
        "\n"
      ],
      "execution_count": null,
      "outputs": []
    },
    {
      "cell_type": "markdown",
      "metadata": {
        "id": "FvcB3V_AZ_7V",
        "colab_type": "text"
      },
      "source": [
        "Model: \"sequential_2\"\n",
        "_________________________________________________________________\n",
        "Layer (type)                 Output Shape              Param #   \n",
        "=================================================================\n",
        "dense (Dense)                (None, 1)                 2         \n",
        "=================================================================\n",
        "Total params: 2\n",
        "Trainable params: 2\n",
        "Non-trainable params: 0\n",
        "_________________________________________________________________\n",
        "(None,1)None代表输入数据的个数"
      ]
    },
    {
      "cell_type": "code",
      "metadata": {
        "id": "8W2VBrMXakuS",
        "colab_type": "code",
        "colab": {}
      },
      "source": [
        "#利用'adam'优化方法,损失函数为均方差(输出为值)，对模型进行编译\n",
        "#matric可以计算正确率\n",
        "model.compile(optimizer='adam',\n",
        "      loss='mse',\n",
        "      matrics['acc']\n",
        ")\n",
        "x=[0,1,2,3,4,5]\n",
        "y=[1.0,2.3,3.1,3.9,4.8,5.0]\n",
        "#训练\n",
        "#epochs对所有数据的训练次数\n",
        "history=model.fit(x,y,epochs=1000)"
      ],
      "execution_count": null,
      "outputs": []
    },
    {
      "cell_type": "code",
      "metadata": {
        "id": "OGlzf8wifwc-",
        "colab_type": "code",
        "colab": {}
      },
      "source": [
        "#使用模型预测\n",
        "model.predict([10,11])"
      ],
      "execution_count": null,
      "outputs": []
    },
    {
      "cell_type": "code",
      "metadata": {
        "id": "9ygyKopQB5mE",
        "colab_type": "code",
        "colab": {}
      },
      "source": [
        "import pandas as pd\n",
        "import numpy as np\n",
        "import matplotlib.pyplot as plt\n",
        "%matplotlib inline\n",
        "\n",
        "#另外一种写法\n",
        "model=tf.keras.Sequential([tf.keras.layers.Dense(10,input_shape=(3,),activation='relu'),#中间层\n",
        "tf.keras.layers.Dense(1)#输出层\n",
        "]\n",
        ")\n",
        "\n",
        "\n",
        "#观察模型整体\n",
        "model.summary()"
      ],
      "execution_count": null,
      "outputs": []
    },
    {
      "cell_type": "markdown",
      "metadata": {
        "id": "V4EKy4e0Hxvi",
        "colab_type": "text"
      },
      "source": [
        "二分类问题的损失函数选择交叉熵-binary_crossentropy\n",
        "多分类问题的损失函数选择softmax交叉熵—\n",
        "categorical_crossentropy标签为独热编码时使用\n",
        "和sparse_categorical_crossentropy"
      ]
    },
    {
      "cell_type": "code",
      "metadata": {
        "id": "fyUekAmEDnbw",
        "colab_type": "code",
        "colab": {}
      },
      "source": [
        "%tensorflow_version 2.x\n",
        "import tensorflow as tf\n",
        "import pandas as pd\n",
        "import numpy as np\n",
        "import matplotlib.pyplot as plt\n",
        "%matplotlib inline"
      ],
      "execution_count": null,
      "outputs": []
    },
    {
      "cell_type": "code",
      "metadata": {
        "id": "L9y20FyrD7pR",
        "colab_type": "code",
        "colab": {}
      },
      "source": [
        "(train_imag,train_lable),(test_imag,test_lable)=tf.keras.datasets.fashion_mnist.load_data()"
      ],
      "execution_count": null,
      "outputs": []
    },
    {
      "cell_type": "code",
      "metadata": {
        "id": "GlioUKGnEqmu",
        "colab_type": "code",
        "colab": {}
      },
      "source": [
        "plt.imshow(train_imag[0])"
      ],
      "execution_count": null,
      "outputs": []
    },
    {
      "cell_type": "code",
      "metadata": {
        "id": "CQ3Oak6YGjua",
        "colab_type": "code",
        "colab": {}
      },
      "source": [
        "train_imag.shape"
      ],
      "execution_count": null,
      "outputs": []
    },
    {
      "cell_type": "code",
      "metadata": {
        "id": "7sYExnXpGnTE",
        "colab_type": "code",
        "colab": {}
      },
      "source": [
        "model=tf.keras.Sequential([tf.keras.layers.Flatten(input_shape=(28,28)),#将图片变成向量\n",
        "                           tf.keras.layers.Dense(128,activation='relu'),\n",
        "tf.keras.layers.Dense(10,activation='softmax')\n",
        "])"
      ],
      "execution_count": null,
      "outputs": []
    },
    {
      "cell_type": "code",
      "metadata": {
        "id": "dNgSpgL0H6SF",
        "colab_type": "code",
        "colab": {}
      },
      "source": [
        "model.compile(optimizer='adam',\n",
        "      loss='sparse_categorical_crossentropy',\n",
        "      metrics=['acc']\n",
        ")"
      ],
      "execution_count": null,
      "outputs": []
    },
    {
      "cell_type": "code",
      "metadata": {
        "id": "GqFY68yQJMgE",
        "colab_type": "code",
        "colab": {}
      },
      "source": [
        "history=model.fit(train_imag,train_lable,epochs=7)"
      ],
      "execution_count": null,
      "outputs": []
    },
    {
      "cell_type": "code",
      "metadata": {
        "id": "8zbgSfJsKKoa",
        "colab_type": "code",
        "colab": {}
      },
      "source": [
        "model.evaluate(test_imag,test_lable)"
      ],
      "execution_count": null,
      "outputs": []
    },
    {
      "cell_type": "markdown",
      "metadata": {
        "id": "4lt2Uhqy8NgA",
        "colab_type": "text"
      },
      "source": [
        "学习率可通过loss随时间的变化来判断是否合理\n",
        "合理则随着时间逐渐下降\n",
        "不合理则不断振荡\n"
      ]
    },
    {
      "cell_type": "code",
      "metadata": {
        "id": "N_R0p2XC8iLw",
        "colab_type": "code",
        "colab": {}
      },
      "source": [
        "RNN的优化参数通常选RMSprop"
      ],
      "execution_count": null,
      "outputs": []
    },
    {
      "cell_type": "code",
      "metadata": {
        "id": "sc19DwpoT5In",
        "colab_type": "code",
        "colab": {}
      },
      "source": [
        "model=tf.keras.Sequential([tf.keras.layers.Flatten(input_shape=(28,28)),#将图片变成向量\n",
        "                           tf.keras.layers.Dense(128,activation='relu'),\n",
        "                           tf.keras.layers.Dropout(0.5),\n",
        "                           tf.keras.layers.Dense(128,activation='relu'),\n",
        "                           tf.keras.layers.Dense(128,activation='relu'),\n",
        "                           tf.keras.layers.Dense(128,activation='relu'),\n",
        "tf.keras.layers.Dense(10,activation='softmax')\n",
        "])"
      ],
      "execution_count": null,
      "outputs": []
    },
    {
      "cell_type": "code",
      "metadata": {
        "id": "P9gEW4PgT_Ms",
        "colab_type": "code",
        "colab": {}
      },
      "source": [
        "model.compile(optimizer='adam',\n",
        "      loss='sparse_categorical_crossentropy',\n",
        "      metrics=['acc']\n",
        ")"
      ],
      "execution_count": null,
      "outputs": []
    },
    {
      "cell_type": "code",
      "metadata": {
        "id": "OyXKmGDPUBHe",
        "colab_type": "code",
        "colab": {}
      },
      "source": [
        "history=model.fit(train_imag,train_lable,epochs=10)"
      ],
      "execution_count": null,
      "outputs": []
    },
    {
      "cell_type": "markdown",
      "metadata": {
        "id": "lr7QaHcdZVYu",
        "colab_type": "text"
      },
      "source": [
        "过拟合训练集准确率高，测试集准确率相对较低\n",
        "欠拟合训练集准确率低，测试集准确率相对较低"
      ]
    },
    {
      "cell_type": "code",
      "metadata": {
        "id": "-HBJlHr4ZoN6",
        "colab_type": "code",
        "colab": {}
      },
      "source": [
        "history=model.fit(train_imag,train_lable,epochs=10,validation_data=(test_imag,test_lable))"
      ],
      "execution_count": null,
      "outputs": []
    },
    {
      "cell_type": "code",
      "metadata": {
        "id": "M_ly3PbRjyjC",
        "colab_type": "code",
        "colab": {}
      },
      "source": [
        "history.history.keys()"
      ],
      "execution_count": null,
      "outputs": []
    },
    {
      "cell_type": "code",
      "metadata": {
        "id": "SKV8rNpJj6KV",
        "colab_type": "code",
        "colab": {}
      },
      "source": [
        "plt.plot(history.epoch,history.history.get('loss'),label='loss')\n",
        "plt.plot(history.epoch,history.history.get('val_loss'),label='val_loss')\n",
        "plt.legend()"
      ],
      "execution_count": null,
      "outputs": []
    },
    {
      "cell_type": "code",
      "metadata": {
        "id": "s_pAQRlNk-06",
        "colab_type": "code",
        "colab": {}
      },
      "source": [
        "plt.plot(history.epoch,history.history.get('acc'),label='acc')\n",
        "plt.plot(history.epoch,history.history.get('val_acc'),label='val_acc')\n",
        "plt.legend()"
      ],
      "execution_count": null,
      "outputs": []
    },
    {
      "cell_type": "markdown",
      "metadata": {
        "id": "a7HPMq7cl_Sy",
        "colab_type": "text"
      },
      "source": [
        "避免过拟合的方法\n",
        "dropout\n",
        "正则化\n",
        "数据增强\n",
        "增加训练数据"
      ]
    },
    {
      "cell_type": "markdown",
      "metadata": {
        "id": "3IXEtXeWpy5D",
        "colab_type": "text"
      },
      "source": [
        "# 函数式api\n"
      ]
    },
    {
      "cell_type": "code",
      "metadata": {
        "id": "4TPcGXieqB64",
        "colab_type": "code",
        "colab": {}
      },
      "source": [
        "train_imag=train_imag/255.0\n",
        "test_imag=test_imag/255.0"
      ],
      "execution_count": null,
      "outputs": []
    },
    {
      "cell_type": "code",
      "metadata": {
        "id": "ekZ7_52zqVVE",
        "colab_type": "code",
        "colab": {}
      },
      "source": [
        "from tensorflow import keras"
      ],
      "execution_count": null,
      "outputs": []
    },
    {
      "cell_type": "code",
      "metadata": {
        "id": "rg8zW1Cdqe1w",
        "colab_type": "code",
        "colab": {}
      },
      "source": [
        "input=keras.Input(shape=(28,28))"
      ],
      "execution_count": null,
      "outputs": []
    },
    {
      "cell_type": "code",
      "metadata": {
        "id": "KW0GQlYJq1wg",
        "colab_type": "code",
        "colab": {}
      },
      "source": [
        "x=keras.layers.Flatten()(input)"
      ],
      "execution_count": null,
      "outputs": []
    },
    {
      "cell_type": "code",
      "metadata": {
        "id": "0FHXuEubrEFc",
        "colab_type": "code",
        "colab": {}
      },
      "source": [
        "x=keras.layers.Dense(128,activation='relu')(x)\n",
        "x=keras.layers.Dropout(0.5)(x)\n",
        "x=keras.layers.Dense(128,activation='relu')(x)"
      ],
      "execution_count": null,
      "outputs": []
    },
    {
      "cell_type": "code",
      "metadata": {
        "id": "ACWMPqJyrwk0",
        "colab_type": "code",
        "colab": {}
      },
      "source": [
        "output=keras.layers.Dense(128,activation='softmax')(x)"
      ],
      "execution_count": null,
      "outputs": []
    },
    {
      "cell_type": "code",
      "metadata": {
        "id": "aem5vDz9r8Ph",
        "colab_type": "code",
        "colab": {}
      },
      "source": [
        "model=keras.Model(inputs=input,outputs=output)"
      ],
      "execution_count": null,
      "outputs": []
    },
    {
      "cell_type": "code",
      "metadata": {
        "id": "fZZymRqctWOb",
        "colab_type": "code",
        "colab": {}
      },
      "source": [
        "x1=keras.Input(shape=(28,28))\n",
        "x2=keras.Input(shape=(28,28))\n",
        "\n",
        "x=keras.layers.concatenate([x1,x2])\n",
        "x=keras.layers.Dense(128,activation='relu')(x)\n",
        "x=keras.layers.Dropout(0.5)(x)\n",
        "x=keras.layers.Dense(128,activation='relu')(x)\n",
        "output=keras.layers.Dense(128,activation='sigmod')(x)\n"
      ],
      "execution_count": null,
      "outputs": []
    },
    {
      "cell_type": "code",
      "metadata": {
        "id": "oJlbkoX6t276",
        "colab_type": "code",
        "colab": {}
      },
      "source": [
        "model=keras.Model(inputs=[input1,input2],outputs=output)"
      ],
      "execution_count": null,
      "outputs": []
    },
    {
      "cell_type": "code",
      "metadata": {
        "id": "XjDbG4ntcd0m",
        "colab_type": "code",
        "colab": {}
      },
      "source": [
        "from ftplib import FTP            #加载ftp模块\n",
        "ftp=FTP()                         #设置变量\n",
        "ftp.set_debuglevel(2)             #打开调试级别2，显示详细信息\n",
        "ftp.connect(\"IP\",\"port\")          #连接的ftp sever和端口\n",
        "ftp.login(\"anonymous\",\"password\")      #连接的用户名，密码\n",
        "print （ftp.getwelcome()）            #打印出欢迎信息\n",
        "ftp.cmd(\"xxx/xxx\")                #进入远程目录\n",
        "bufsize=1024                      #设置的缓冲区大小\n",
        "filename=\"filename.txt\"           #需要下载的文件\n",
        "file_handle=open(filename,\"wb\").write #以写模式在本地打开文件\n",
        "ftp.retrbinaly(\"RETR filename.txt\",file_handle,bufsize) #接收服务器上文件并写入本地文件\n",
        "ftp.set_debuglevel(0)             #关闭调试模式\n",
        "ftp.quit()                        #退出ftp"
      ],
      "execution_count": null,
      "outputs": []
    }
  ]
}